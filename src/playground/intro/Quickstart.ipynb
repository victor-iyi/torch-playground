{
 "cells": [
  {
   "cell_type": "markdown",
   "id": "a18ea467",
   "metadata": {},
   "source": [
    "# Quickstart\n",
    "\n",
    "## Working with data\n",
    "\n",
    "PyTorch has two premitives to work with data: `torch.utils.data.DataLoader` and `torch.utils.data.Dataset`. `Dataset` stores the samples and their corresponding labels,and `DataLoader` wraps an iterable around the `Dataset`."
   ]
  },
  {
   "cell_type": "code",
   "execution_count": 1,
   "id": "d8d36bc0",
   "metadata": {},
   "outputs": [
    {
     "name": "stderr",
     "output_type": "stream",
     "text": [
      "/Users/victor/dev/tutorials/torch-playground/venv/lib/python3.10/site-packages/tqdm/auto.py:22: TqdmWarning: IProgress not found. Please update jupyter and ipywidgets. See https://ipywidgets.readthedocs.io/en/stable/user_install.html\n",
      "  from .autonotebook import tqdm as notebook_tqdm\n"
     ]
    },
    {
     "name": "stdout",
     "output_type": "stream",
     "text": [
      "Torch version: 2.0.0.dev20221213\n"
     ]
    }
   ],
   "source": [
    "import os\n",
    "\n",
    "import torch\n",
    "from torch import nn\n",
    "from torch.utils.data import DataLoader\n",
    "from torchvision import datasets\n",
    "from torchvision.transforms import ToTensor\n",
    "\n",
    "print(f'Torch version: {torch.__version__}')"
   ]
  },
  {
   "cell_type": "markdown",
   "id": "f71038c8",
   "metadata": {},
   "source": [
    "The `torchvision.datasets` module contains `Dataset` objects for many real-world data like CIFAR, COC, etc. Here we use the FashionMNIST dataset. Every TorchVision `Dataset` includes two arguments: `transform` and `target_transform` to modify the samples and labels respectively."
   ]
  },
  {
   "cell_type": "code",
   "execution_count": 2,
   "id": "d09106a9",
   "metadata": {},
   "outputs": [],
   "source": [
    "BASE_DIR = '../../../'\n",
    "DATA_DIR = os.path.join(BASE_DIR, 'data')\n",
    "MODEL_DIR = os.path.join(BASE_DIR, 'saved_models/intro')"
   ]
  },
  {
   "cell_type": "code",
   "execution_count": 3,
   "id": "21788cd8",
   "metadata": {},
   "outputs": [],
   "source": [
    "# Download traiing data from open datasets.\n",
    "training_data = datasets.FashionMNIST(\n",
    "    root=DATA_DIR,\n",
    "    train=True,\n",
    "    download=True,\n",
    "    transform=ToTensor(),\n",
    ")\n",
    "\n",
    "# Download test data from open datasets.\n",
    "test_data = datasets.FashionMNIST(\n",
    "    root=DATA_DIR,\n",
    "    train=False,\n",
    "    download=True,\n",
    "    transform=ToTensor(),\n",
    ")"
   ]
  },
  {
   "cell_type": "markdown",
   "id": "4eb9d4c0",
   "metadata": {},
   "source": [
    "We pass the `Dataset` as an argument to `DataLoader`. This wraps an iterable over our dataset, and supports automatic batching, sampling and multiprocess data loading. Here we define a batch size of 64, i.e. eaach element in the dataloader iterable will return a batch of 64 features and labels."
   ]
  },
  {
   "cell_type": "code",
   "execution_count": 4,
   "id": "f543b28b",
   "metadata": {},
   "outputs": [
    {
     "name": "stdout",
     "output_type": "stream",
     "text": [
      "Shape of [N, C, H, W]: torch.Size([64, 1, 28, 28])\n",
      "Shape of y: torch.Size([64]) torch.int64\n"
     ]
    }
   ],
   "source": [
    "batch_size = 64\n",
    "\n",
    "# Create data loaders.\n",
    "train_dataloader = DataLoader(training_data, batch_size=batch_size)\n",
    "test_dataloader = DataLoader(test_data, batch_size=batch_size)\n",
    "\n",
    "for X, y in test_dataloader:\n",
    "    print(f'Shape of [N, C, H, W]: {X.shape}')\n",
    "    print(f'Shape of y: {y.shape} {y.dtype}')\n",
    "    break"
   ]
  },
  {
   "cell_type": "markdown",
   "id": "760ef488",
   "metadata": {},
   "source": [
    "## Creating Models\n",
    "\n",
    "To define a neural network in PyTorch, we create a class that inherits from `nn.Module`. We define the layers of the network in the `__init__` function and specify how data will pass through the network in the `forward` function. To accelerate operations in the neural network, we move it to the GPU if available."
   ]
  },
  {
   "cell_type": "code",
   "execution_count": 5,
   "id": "f8d21774",
   "metadata": {},
   "outputs": [
    {
     "name": "stdout",
     "output_type": "stream",
     "text": [
      "Using mps device\n"
     ]
    }
   ],
   "source": [
    "# Get the CPU or GPU for training (mps - in case of Apple Silicon).\n",
    "if torch.cuda.is_available():\n",
    "    # Compute Unified Device Architecture.\n",
    "    device = 'cuda'\n",
    "elif torch.backends.mps.is_available():\n",
    "    # Metal Performance Shader.\n",
    "    device = 'mps'\n",
    "else:\n",
    "    # Central Processing Unit.\n",
    "    device = 'cpu'\n",
    "\n",
    "device = torch.device(device)\n",
    "print(f'Using {device} device')"
   ]
  },
  {
   "cell_type": "code",
   "execution_count": 6,
   "id": "62c0a0be",
   "metadata": {},
   "outputs": [
    {
     "name": "stdout",
     "output_type": "stream",
     "text": [
      "NeuralNetwork(\n",
      "  (flatten): Flatten(start_dim=1, end_dim=-1)\n",
      "  (linear_relu_stack): Sequential(\n",
      "    (0): Linear(in_features=784, out_features=512, bias=True)\n",
      "    (1): ReLU()\n",
      "    (2): Linear(in_features=512, out_features=512, bias=True)\n",
      "    (3): ReLU()\n",
      "    (4): Linear(in_features=512, out_features=10, bias=True)\n",
      "  )\n",
      ")\n"
     ]
    }
   ],
   "source": [
    "# Define model\n",
    "class NeuralNetwork(nn.Module):\n",
    "    def __init__(self) -> None:\n",
    "        super().__init__()\n",
    "        self.flatten = nn.Flatten()\n",
    "        self.linear_relu_stack = nn.Sequential(\n",
    "            nn.Linear(28*28, 512),\n",
    "            nn.ReLU(),\n",
    "            nn.Linear(512, 512),\n",
    "            nn.ReLU(),\n",
    "            nn.Linear(512, 10)\n",
    "        )\n",
    "\n",
    "    def forward(self, x: torch.Tensor) -> torch.Tensor:\n",
    "        x = self.flatten(x)\n",
    "        logits = self.linear_relu_stack(x)\n",
    "        return logits\n",
    "    \n",
    "model = NeuralNetwork().to(device)\n",
    "print(model)\n",
    "# compiled_model = torch.compile(model)\n",
    "# print(compiled_model)"
   ]
  },
  {
   "cell_type": "markdown",
   "id": "9f5dff21",
   "metadata": {},
   "source": [
    "## Optimizing the Model Parameters\n",
    "\n",
    "To train a model, we need a loss function and an optimizer."
   ]
  },
  {
   "cell_type": "code",
   "execution_count": 7,
   "id": "844a4495",
   "metadata": {},
   "outputs": [],
   "source": [
    "loss_fn = nn.CrossEntropyLoss()\n",
    "optimizer = torch.optim.SGD(model.parameters(), lr=1e-3)"
   ]
  },
  {
   "cell_type": "markdown",
   "id": "ad12dc24",
   "metadata": {},
   "source": [
    "In a single training loop, the model makes predictions on the training dataset (fed to it in batches), and backpropagates the prediction error to adjust the model's parameters."
   ]
  },
  {
   "cell_type": "code",
   "execution_count": 8,
   "id": "1f496c14",
   "metadata": {},
   "outputs": [],
   "source": [
    "def train(\n",
    "    dataloader: DataLoader,\n",
    "    model: nn.Module,\n",
    "    loss_fn: nn.Module,\n",
    "    optimizer: torch.optim.Optimizer\n",
    ") -> None:\n",
    "    size = len(dataloader.dataset)\n",
    "    model.train()\n",
    "    \n",
    "    for batch, (X, y) in enumerate(dataloader):\n",
    "        X, y = X.to(device), y.to(device)\n",
    "        \n",
    "        # Compute prediction error.\n",
    "        pred = model(X)\n",
    "        loss = loss_fn(pred, y)\n",
    "        \n",
    "        # Backpropagation.\n",
    "        optimizer.zero_grad()\n",
    "        loss.backward()\n",
    "        optimizer.step()\n",
    "        \n",
    "        if batch % 100 == 0:\n",
    "            loss, current = loss.item(), batch * len(X)\n",
    "            print(f'Loss: {loss:>7f} [{current:>5d}/{size:>5d}]')"
   ]
  },
  {
   "cell_type": "markdown",
   "id": "b8f0d17b",
   "metadata": {},
   "source": [
    "We also check the model's performance against the test dataset to ensure it is learning."
   ]
  },
  {
   "cell_type": "code",
   "execution_count": 9,
   "id": "a352d854",
   "metadata": {},
   "outputs": [],
   "source": [
    "def test(\n",
    "    dataloader: DataLoader,\n",
    "    model: nn.Module,\n",
    "    loss_fn: nn.Module,\n",
    ") -> None:\n",
    "    size = len(dataloader.dataset)\n",
    "    num_batches = len(dataloader)\n",
    "    \n",
    "    model.eval()\n",
    "    test_loss, correct = 0, 0\n",
    "\n",
    "    with torch.no_grad():\n",
    "        for X, y in dataloader:\n",
    "            X, y = X.to(device), y.to(device)\n",
    "            pred = model(X)\n",
    "            test_loss += loss_fn(pred, y).item()\n",
    "            correct += (pred.argmax(1) == y).type(torch.float).sum().item()\n",
    "    # loss per batch(es).\n",
    "    test_loss /= num_batches\n",
    "    correct /= size\n",
    "\n",
    "    print('Test error:')\n",
    "    print(f'Accuracy: {correct:.02%}\\tAvg loss: {test_loss:>8f}\\n')"
   ]
  },
  {
   "cell_type": "markdown",
   "id": "a368a5ee",
   "metadata": {},
   "source": [
    "The training process is conducted over several iterations *(epochs)*. During each epoch, the model learns parameters to make better predictions. We print the model's accuracy and loss at each epoch; we'd like to see the accuracy increase and the loss decrease with every epoch."
   ]
  },
  {
   "cell_type": "code",
   "execution_count": 10,
   "id": "06d3792c",
   "metadata": {},
   "outputs": [
    {
     "name": "stdout",
     "output_type": "stream",
     "text": [
      "Epoch 1\n",
      "-------------------------------\n",
      "Loss: 2.297346 [    0/60000]\n",
      "Loss: 2.287367 [ 6400/60000]\n",
      "Loss: 2.269750 [12800/60000]\n",
      "Loss: 2.260197 [19200/60000]\n",
      "Loss: 2.245991 [25600/60000]\n",
      "Loss: 2.219156 [32000/60000]\n",
      "Loss: 2.230363 [38400/60000]\n",
      "Loss: 2.204018 [44800/60000]\n",
      "Loss: 2.191911 [51200/60000]\n",
      "Loss: 2.161375 [57600/60000]\n",
      "Test error:\n",
      "Accuracy: 41.17%\tAvg loss: 2.158780\n",
      "\n",
      "Epoch 2\n",
      "-------------------------------\n",
      "Loss: 2.175921 [    0/60000]\n",
      "Loss: 2.159965 [ 6400/60000]\n",
      "Loss: 2.108737 [12800/60000]\n",
      "Loss: 2.115052 [19200/60000]\n",
      "Loss: 2.065802 [25600/60000]\n",
      "Loss: 2.018682 [32000/60000]\n",
      "Loss: 2.037230 [38400/60000]\n",
      "Loss: 1.970802 [44800/60000]\n",
      "Loss: 1.962234 [51200/60000]\n",
      "Loss: 1.890669 [57600/60000]\n",
      "Test error:\n",
      "Accuracy: 57.17%\tAvg loss: 1.893003\n",
      "\n",
      "Epoch 3\n",
      "-------------------------------\n",
      "Loss: 1.932673 [    0/60000]\n",
      "Loss: 1.893569 [ 6400/60000]\n",
      "Loss: 1.785760 [12800/60000]\n",
      "Loss: 1.812930 [19200/60000]\n",
      "Loss: 1.710163 [25600/60000]\n",
      "Loss: 1.670389 [32000/60000]\n",
      "Loss: 1.678118 [38400/60000]\n",
      "Loss: 1.591525 [44800/60000]\n",
      "Loss: 1.603287 [51200/60000]\n",
      "Loss: 1.496086 [57600/60000]\n",
      "Test error:\n",
      "Accuracy: 59.93%\tAvg loss: 1.522462\n",
      "\n",
      "Epoch 4\n",
      "-------------------------------\n",
      "Loss: 1.596100 [    0/60000]\n",
      "Loss: 1.552168 [ 6400/60000]\n",
      "Loss: 1.409615 [12800/60000]\n",
      "Loss: 1.469742 [19200/60000]\n",
      "Loss: 1.361308 [25600/60000]\n",
      "Loss: 1.354994 [32000/60000]\n",
      "Loss: 1.360214 [38400/60000]\n",
      "Loss: 1.293460 [44800/60000]\n",
      "Loss: 1.319104 [51200/60000]\n",
      "Loss: 1.217626 [57600/60000]\n",
      "Test error:\n",
      "Accuracy: 62.81%\tAvg loss: 1.253315\n",
      "\n",
      "Epoch 5\n",
      "-------------------------------\n",
      "Loss: 1.336909 [    0/60000]\n",
      "Loss: 1.307389 [ 6400/60000]\n",
      "Loss: 1.150110 [12800/60000]\n",
      "Loss: 1.245405 [19200/60000]\n",
      "Loss: 1.131446 [25600/60000]\n",
      "Loss: 1.151646 [32000/60000]\n",
      "Loss: 1.166193 [38400/60000]\n",
      "Loss: 1.110386 [44800/60000]\n",
      "Loss: 1.140359 [51200/60000]\n",
      "Loss: 1.057228 [57600/60000]\n",
      "Test error:\n",
      "Accuracy: 64.55%\tAvg loss: 1.086682\n",
      "\n",
      "Done!\n"
     ]
    }
   ],
   "source": [
    "epoch = 5\n",
    "for t in range(1, epoch + 1):\n",
    "    print(f'Epoch {t}\\n-------------------------------')\n",
    "    train(train_dataloader, model, loss_fn, optimizer)\n",
    "    test(test_dataloader, model, loss_fn)\n",
    "print('Done!')"
   ]
  },
  {
   "cell_type": "markdown",
   "id": "f3cc866c",
   "metadata": {},
   "source": [
    "## Saving Models\n",
    "\n",
    "A common way to save a model is to serialize the internal state dictionary (containing model parameters)."
   ]
  },
  {
   "cell_type": "code",
   "execution_count": 11,
   "id": "fe7b7728",
   "metadata": {},
   "outputs": [],
   "source": [
    "model_path = os.path.join(MODEL_DIR, 'quickstart-model.pth')\n",
    "\n",
    "# Create `MODEL_DIR` directory (if it doesn't already exist).\n",
    "os.makedirs(MODEL_DIR, exist_ok=True)"
   ]
  },
  {
   "cell_type": "code",
   "execution_count": 12,
   "id": "ce98e781",
   "metadata": {},
   "outputs": [
    {
     "name": "stdout",
     "output_type": "stream",
     "text": [
      "Saved PyTorch model state to ../../../saved_models/intro/quickstart-model.pth\n"
     ]
    }
   ],
   "source": [
    "torch.save(model.state_dict(), model_path)\n",
    "print(f'Saved PyTorch model state to {model_path}')"
   ]
  },
  {
   "cell_type": "markdown",
   "id": "ac3c35cd",
   "metadata": {},
   "source": [
    "## Loading Models\n",
    "\n",
    "The process for loading a model includes re-creating the model structure and loading the state dictionary into it."
   ]
  },
  {
   "cell_type": "code",
   "execution_count": 13,
   "id": "35a4a91f",
   "metadata": {},
   "outputs": [
    {
     "data": {
      "text/plain": [
       "<All keys matched successfully>"
      ]
     },
     "execution_count": 13,
     "metadata": {},
     "output_type": "execute_result"
    }
   ],
   "source": [
    "model = NeuralNetwork()\n",
    "model.load_state_dict(torch.load(model_path))"
   ]
  },
  {
   "cell_type": "markdown",
   "id": "7ff1de23",
   "metadata": {},
   "source": [
    "This model can now be used to make predictions."
   ]
  },
  {
   "cell_type": "code",
   "execution_count": 14,
   "id": "fd68bb3a",
   "metadata": {},
   "outputs": [
    {
     "name": "stdout",
     "output_type": "stream",
     "text": [
      "Predicted: \"Ankle boot\", Actual: \"Ankle boot\"\n"
     ]
    }
   ],
   "source": [
    "classes = [\n",
    "    'T-shirt/top', 'Trouser', 'Pullover', 'Dress', 'Coat',\n",
    "    'Sandal', 'Shirt', 'Sneaker', 'Bag', 'Ankle boot',\n",
    "]\n",
    "\n",
    "model.eval()\n",
    "x, y = test_data[0][0], test_data[0][1]\n",
    "with torch.no_grad():\n",
    "    pred = model(x)\n",
    "    predicted, actual = classes[pred[0].argmax(0)], classes[y]\n",
    "    print(f'Predicted: \"{predicted}\", Actual: \"{actual}\"')"
   ]
  }
 ],
 "metadata": {
  "kernelspec": {
   "display_name": "Python 3 (ipykernel)",
   "language": "python",
   "name": "python3"
  },
  "language_info": {
   "codemirror_mode": {
    "name": "ipython",
    "version": 3
   },
   "file_extension": ".py",
   "mimetype": "text/x-python",
   "name": "python",
   "nbconvert_exporter": "python",
   "pygments_lexer": "ipython3",
   "version": "3.10.6"
  }
 },
 "nbformat": 4,
 "nbformat_minor": 5
}
