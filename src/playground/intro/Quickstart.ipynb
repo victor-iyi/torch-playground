{
 "cells": [
  {
   "cell_type": "markdown",
   "id": "34c50e75",
   "metadata": {},
   "source": [
    "# Quickstart\n",
    "\n",
    "## Working with data\n",
    "\n",
    "PyTorch has two premitives to work with data: `torch.utils.data.DataLoader` and `torch.utils.data.Dataset`. `Dataset` stores the samples and their corresponding labels,and `DataLoader` wraps an iterable around the `Dataset`."
   ]
  },
  {
   "cell_type": "code",
   "execution_count": 1,
   "id": "406bb29f",
   "metadata": {},
   "outputs": [
    {
     "name": "stderr",
     "output_type": "stream",
     "text": [
      "/Users/victor/dev/tutorials/torch-playground/venv/lib/python3.10/site-packages/tqdm/auto.py:22: TqdmWarning: IProgress not found. Please update jupyter and ipywidgets. See https://ipywidgets.readthedocs.io/en/stable/user_install.html\n",
      "  from .autonotebook import tqdm as notebook_tqdm\n"
     ]
    },
    {
     "name": "stdout",
     "output_type": "stream",
     "text": [
      "Torch version: 2.0.0.dev20221213\n"
     ]
    }
   ],
   "source": [
    "import torch\n",
    "from torch import nn\n",
    "from torch.utils.data import DataLoader\n",
    "from torchvision import datasets\n",
    "from torchvision.transforms import ToTensor\n",
    "\n",
    "print(f'Torch version: {torch.__version__}')"
   ]
  },
  {
   "cell_type": "markdown",
   "id": "674d5c3e",
   "metadata": {},
   "source": [
    "The `torchvision.datasets` module contains `Dataset` objects for many real-world data like CIFAR, COC, etc. Here we use the FashionMNIST dataset. Every TorchVision `Dataset` includes two arguments: `transform` and `target_transform` to modify the samples and labels respectively."
   ]
  },
  {
   "cell_type": "code",
   "execution_count": 2,
   "id": "34300988",
   "metadata": {},
   "outputs": [],
   "source": [
    "root = '../../../data/'\n",
    "# Download traiing data from open datasets.\n",
    "training_data = datasets.FashionMNIST(\n",
    "    root=root,\n",
    "    train=True,\n",
    "    download=True,\n",
    "    transform=ToTensor(),\n",
    ")\n",
    "\n",
    "# Download test data from open datasets.\n",
    "test_data = datasets.FashionMNIST(\n",
    "    root=root,\n",
    "    train=False,\n",
    "    download=True,\n",
    "    transform=ToTensor(),\n",
    ")"
   ]
  },
  {
   "cell_type": "markdown",
   "id": "0257e483",
   "metadata": {},
   "source": [
    "We pass the `Dataset` as an argument to `DataLoader`. This wraps an iterable over our dataset, and supports automatic batching, sampling and multiprocess data loading. Here we define a batch size of 64, i.e. eaach element in the dataloader iterable will return a batch of 64 features and labels."
   ]
  },
  {
   "cell_type": "code",
   "execution_count": 3,
   "id": "f79e0722",
   "metadata": {},
   "outputs": [
    {
     "name": "stdout",
     "output_type": "stream",
     "text": [
      "Shape of [N, C, H, W]: torch.Size([64, 1, 28, 28])\n",
      "Shape of y: torch.Size([64]) torch.int64\n"
     ]
    }
   ],
   "source": [
    "batch_size = 64\n",
    "\n",
    "# Create data loaders.\n",
    "train_dataloader = DataLoader(training_data, batch_size=batch_size)\n",
    "test_dataloader = DataLoader(test_data, batch_size=batch_size)\n",
    "\n",
    "for X, y in test_dataloader:\n",
    "    print(f'Shape of [N, C, H, W]: {X.shape}')\n",
    "    print(f'Shape of y: {y.shape} {y.dtype}')\n",
    "    break"
   ]
  },
  {
   "cell_type": "markdown",
   "id": "757df7c2",
   "metadata": {},
   "source": [
    "## Creating Models\n",
    "\n",
    "To define a neural network in PyTorch, we create a class that inherits from `nn.Module`. We define the layers of the network in the `__init__` function and specify how data will pass through the network in the `forward` function. To accelerate operations in the neural network, we move it to the GPU if available."
   ]
  },
  {
   "cell_type": "code",
   "execution_count": 4,
   "id": "973e67cc",
   "metadata": {},
   "outputs": [
    {
     "name": "stdout",
     "output_type": "stream",
     "text": [
      "Using mps device\n"
     ]
    }
   ],
   "source": [
    "# Get the CPU or GPU for training (mps - in case of Apple Silicon).\n",
    "if torch.cuda.is_available():\n",
    "    # Compute Unified Device Architecture.\n",
    "    device = 'cuda'\n",
    "elif torch.backends.mps.is_available():\n",
    "    # Metal Performance Shader.\n",
    "    device = 'mps'\n",
    "else:\n",
    "    # Central Processing Unit.\n",
    "    device = 'cpu'\n",
    "\n",
    "device = torch.device(device)\n",
    "print(f'Using {device} device')"
   ]
  },
  {
   "cell_type": "code",
   "execution_count": 5,
   "id": "8761884d",
   "metadata": {},
   "outputs": [
    {
     "name": "stdout",
     "output_type": "stream",
     "text": [
      "NeuralNetwork(\n",
      "  (flatten): Flatten(start_dim=1, end_dim=-1)\n",
      "  (linear_relu_stack): Sequential(\n",
      "    (0): Linear(in_features=784, out_features=512, bias=True)\n",
      "    (1): ReLU()\n",
      "    (2): Linear(in_features=512, out_features=512, bias=True)\n",
      "    (3): ReLU()\n",
      "    (4): Linear(in_features=512, out_features=10, bias=True)\n",
      "  )\n",
      ")\n"
     ]
    }
   ],
   "source": [
    "# Define model\n",
    "class NeuralNetwork(nn.Module):\n",
    "    def __init__(self) -> None:\n",
    "        super().__init__()\n",
    "        self.flatten = nn.Flatten()\n",
    "        self.linear_relu_stack = nn.Sequential(\n",
    "            nn.Linear(28*28, 512),\n",
    "            nn.ReLU(),\n",
    "            nn.Linear(512, 512),\n",
    "            nn.ReLU(),\n",
    "            nn.Linear(512, 10)\n",
    "        )\n",
    "\n",
    "    def forward(self, x: torch.Tensor) -> torch.Tensor:\n",
    "        x = self.flatten(x)\n",
    "        logits = self.linear_relu_stack(x)\n",
    "        return logits\n",
    "    \n",
    "model = NeuralNetwork().to(device)\n",
    "print(model)\n",
    "# compiled_model = torch.compile(model)\n",
    "# print(compiled_model)"
   ]
  },
  {
   "cell_type": "markdown",
   "id": "77556355",
   "metadata": {},
   "source": [
    "## Optimizing the Model Parameters\n",
    "\n",
    "To train a model, we need a loss function and an optimizer."
   ]
  },
  {
   "cell_type": "code",
   "execution_count": 6,
   "id": "ea09e69e",
   "metadata": {},
   "outputs": [],
   "source": [
    "loss_fn = nn.CrossEntropyLoss()\n",
    "optimizer = torch.optim.SGD(model.parameters(), lr=1e-3)"
   ]
  },
  {
   "cell_type": "markdown",
   "id": "997f4cb8",
   "metadata": {},
   "source": [
    "In a single training loop, the model makes predictions on the training dataset (fed to it in batches), and backpropagates the prediction error to adjust the model's parameters."
   ]
  },
  {
   "cell_type": "code",
   "execution_count": 7,
   "id": "a6fe7d25",
   "metadata": {},
   "outputs": [],
   "source": [
    "def train(\n",
    "    dataloader: DataLoader,\n",
    "    model: nn.Module,\n",
    "    loss_fn: nn.Module,\n",
    "    optimizer: torch.optim.Optimizer\n",
    ") -> None:\n",
    "    size = len(dataloader.dataset)\n",
    "    model.train()\n",
    "    \n",
    "    for batch, (X, y) in enumerate(dataloader):\n",
    "        X, y = X.to(device), y.to(device)\n",
    "        \n",
    "        # Compute prediction error.\n",
    "        pred = model(X)\n",
    "        loss = loss_fn(pred, y)\n",
    "        \n",
    "        # Backpropagation.\n",
    "        optimizer.zero_grad()\n",
    "        loss.backward()\n",
    "        optimizer.step()\n",
    "        \n",
    "        if batch % 100 == 0:\n",
    "            loss, current = loss.item(), batch * len(X)\n",
    "            print(f'Loss: {loss:>7f} [{current:>5d}/{size:>5d}]')"
   ]
  },
  {
   "cell_type": "markdown",
   "id": "266a3815",
   "metadata": {},
   "source": [
    "We also check the model's performance against the test dataset to ensure it is learning."
   ]
  },
  {
   "cell_type": "code",
   "execution_count": 8,
   "id": "da3fac81",
   "metadata": {},
   "outputs": [],
   "source": [
    "def test(\n",
    "    dataloader: DataLoader,\n",
    "    model: nn.Module,\n",
    "    loss_fn: nn.Module,\n",
    ") -> None:\n",
    "    size = len(dataloader.dataset)\n",
    "    num_batches = len(dataloader)\n",
    "    \n",
    "    model.eval()\n",
    "    test_loss, correct = 0, 0\n",
    "\n",
    "    with torch.no_grad():\n",
    "        for X, y in dataloader:\n",
    "            X, y = X.to(device), y.to(device)\n",
    "            pred = model(X)\n",
    "            test_loss += loss_fn(pred, y).item()\n",
    "            correct += (pred.argmax(1) == y).type(torch.float).sum().item()\n",
    "    # loss per batch(es).\n",
    "    test_loss /= num_batches\n",
    "    correct /= size\n",
    "\n",
    "    print('Test error:')\n",
    "    print(f'Accuracy: {correct:.02%}\\tAvg loss: {test_loss:>8f}\\n')"
   ]
  },
  {
   "cell_type": "markdown",
   "id": "18430114",
   "metadata": {},
   "source": [
    "The training process is conducted over several iterations *(epochs)*. During each epoch, the model learns parameters to make better predictions. We print the model's accuracy and loss at each epoch; we'd like to see the accuracy increase and the loss decrease with every epoch."
   ]
  },
  {
   "cell_type": "code",
   "execution_count": 9,
   "id": "5dfa361b",
   "metadata": {},
   "outputs": [
    {
     "name": "stdout",
     "output_type": "stream",
     "text": [
      "Epoch 1\n",
      "-------------------------------\n",
      "Loss: 2.300339 [    0/60000]\n",
      "Loss: 2.289175 [ 6400/60000]\n",
      "Loss: 2.271161 [12800/60000]\n",
      "Loss: 2.267830 [19200/60000]\n",
      "Loss: 2.243491 [25600/60000]\n",
      "Loss: 2.222013 [32000/60000]\n",
      "Loss: 2.227760 [38400/60000]\n",
      "Loss: 2.194563 [44800/60000]\n",
      "Loss: 2.202615 [51200/60000]\n",
      "Loss: 2.168777 [57600/60000]\n",
      "Test error:\n",
      "Accuracy: 46.89%\tAvg loss: 2.162481\n",
      "\n",
      "Epoch 2\n",
      "-------------------------------\n",
      "Loss: 2.169892 [    0/60000]\n",
      "Loss: 2.164029 [ 6400/60000]\n",
      "Loss: 2.108101 [12800/60000]\n",
      "Loss: 2.124813 [19200/60000]\n",
      "Loss: 2.079112 [25600/60000]\n",
      "Loss: 2.016610 [32000/60000]\n",
      "Loss: 2.046314 [38400/60000]\n",
      "Loss: 1.968567 [44800/60000]\n",
      "Loss: 1.981308 [51200/60000]\n",
      "Loss: 1.909360 [57600/60000]\n",
      "Test error:\n",
      "Accuracy: 60.18%\tAvg loss: 1.907112\n",
      "\n",
      "Epoch 3\n",
      "-------------------------------\n",
      "Loss: 1.938391 [    0/60000]\n",
      "Loss: 1.910949 [ 6400/60000]\n",
      "Loss: 1.796414 [12800/60000]\n",
      "Loss: 1.832676 [19200/60000]\n",
      "Loss: 1.731495 [25600/60000]\n",
      "Loss: 1.674767 [32000/60000]\n",
      "Loss: 1.697982 [38400/60000]\n",
      "Loss: 1.595199 [44800/60000]\n",
      "Loss: 1.626080 [51200/60000]\n",
      "Loss: 1.519848 [57600/60000]\n",
      "Test error:\n",
      "Accuracy: 61.62%\tAvg loss: 1.534725\n",
      "\n",
      "Epoch 4\n",
      "-------------------------------\n",
      "Loss: 1.604441 [    0/60000]\n",
      "Loss: 1.567567 [ 6400/60000]\n",
      "Loss: 1.417772 [12800/60000]\n",
      "Loss: 1.481062 [19200/60000]\n",
      "Loss: 1.365261 [25600/60000]\n",
      "Loss: 1.361679 [32000/60000]\n",
      "Loss: 1.377707 [38400/60000]\n",
      "Loss: 1.294450 [44800/60000]\n",
      "Loss: 1.336015 [51200/60000]\n",
      "Loss: 1.241602 [57600/60000]\n",
      "Test error:\n",
      "Accuracy: 63.28%\tAvg loss: 1.260448\n",
      "\n",
      "Epoch 5\n",
      "-------------------------------\n",
      "Loss: 1.341262 [    0/60000]\n",
      "Loss: 1.322016 [ 6400/60000]\n",
      "Loss: 1.154735 [12800/60000]\n",
      "Loss: 1.253617 [19200/60000]\n",
      "Loss: 1.125681 [25600/60000]\n",
      "Loss: 1.161040 [32000/60000]\n",
      "Loss: 1.184046 [38400/60000]\n",
      "Loss: 1.110989 [44800/60000]\n",
      "Loss: 1.155044 [51200/60000]\n",
      "Loss: 1.083008 [57600/60000]\n",
      "Test error:\n",
      "Accuracy: 64.65%\tAvg loss: 1.093604\n",
      "\n",
      "Done!\n"
     ]
    }
   ],
   "source": [
    "epoch = 5\n",
    "for t in range(1, epoch + 1):\n",
    "    print(f'Epoch {t}\\n-------------------------------')\n",
    "    train(train_dataloader, model, loss_fn, optimizer)\n",
    "    test(test_dataloader, model, loss_fn)\n",
    "print('Done!')"
   ]
  },
  {
   "cell_type": "markdown",
   "id": "c3ff98ae",
   "metadata": {},
   "source": [
    "## Saving Models\n",
    "\n",
    "A common way to save a model is to serialize the internal state dictionary (containing model parameters)."
   ]
  },
  {
   "cell_type": "code",
   "execution_count": 10,
   "id": "9d7499d6",
   "metadata": {},
   "outputs": [],
   "source": [
    "saved_model = '../../../saved_models/intro'\n",
    "model_path = f'{saved_model}/quickstart-model.pth'\n",
    "# Create `save_model` path.\n",
    "!mkdir -p {saved_model}"
   ]
  },
  {
   "cell_type": "code",
   "execution_count": 11,
   "id": "d7fbea7c",
   "metadata": {},
   "outputs": [
    {
     "name": "stdout",
     "output_type": "stream",
     "text": [
      "Saved PyTorch model state to ../../../saved_models/intro/quickstart-model.pth\n"
     ]
    }
   ],
   "source": [
    "torch.save(model.state_dict(), model_path)\n",
    "print(f'Saved PyTorch model state to {model_path}')"
   ]
  },
  {
   "cell_type": "markdown",
   "id": "4c8ad3fb",
   "metadata": {},
   "source": [
    "## Loading Models\n",
    "\n",
    "The process for loading a model includes re-creating the model structure and loading the state dictionary into it."
   ]
  },
  {
   "cell_type": "code",
   "execution_count": 12,
   "id": "c9a323b0",
   "metadata": {},
   "outputs": [
    {
     "data": {
      "text/plain": [
       "<All keys matched successfully>"
      ]
     },
     "execution_count": 12,
     "metadata": {},
     "output_type": "execute_result"
    }
   ],
   "source": [
    "model = NeuralNetwork()\n",
    "model.load_state_dict(torch.load(model_path))"
   ]
  },
  {
   "cell_type": "markdown",
   "id": "aa007428",
   "metadata": {},
   "source": [
    "This model can now be used to make predictions."
   ]
  },
  {
   "cell_type": "code",
   "execution_count": 13,
   "id": "b6b284e2",
   "metadata": {},
   "outputs": [
    {
     "name": "stdout",
     "output_type": "stream",
     "text": [
      "Predicted: \"Ankle boot\", Actual: \"Ankle boot\"\n"
     ]
    }
   ],
   "source": [
    "classes = [\n",
    "    'T-shirt/top', 'Trouser', 'Pullover', 'Dress', 'Coat',\n",
    "    'Sandal', 'Shirt', 'Sneaker', 'Bag', 'Ankle boot',\n",
    "]\n",
    "\n",
    "model.eval()\n",
    "x, y = test_data[0][0], test_data[0][1]\n",
    "with torch.no_grad():\n",
    "    pred = model(x)\n",
    "    predicted, actual = classes[pred[0].argmax(0)], classes[y]\n",
    "    print(f'Predicted: \"{predicted}\", Actual: \"{actual}\"')"
   ]
  }
 ],
 "metadata": {
  "kernelspec": {
   "display_name": "Python 3 (ipykernel)",
   "language": "python",
   "name": "python3"
  },
  "language_info": {
   "codemirror_mode": {
    "name": "ipython",
    "version": 3
   },
   "file_extension": ".py",
   "mimetype": "text/x-python",
   "name": "python",
   "nbconvert_exporter": "python",
   "pygments_lexer": "ipython3",
   "version": "3.10.6"
  }
 },
 "nbformat": 4,
 "nbformat_minor": 5
}
